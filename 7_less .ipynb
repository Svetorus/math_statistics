{
 "cells": [
  {
   "cell_type": "code",
   "execution_count": 1,
   "metadata": {},
   "outputs": [],
   "source": [
    "import pandas as pd\n",
    "import numpy as np\n",
    "import math\n",
    "from math import factorial\n",
    "import matplotlib.pyplot as plt\n",
    "%matplotlib inline"
   ]
  },
  {
   "cell_type": "markdown",
   "metadata": {},
   "source": [
    "### 1)\n",
    "Даны значения величины заработной платы заемщиков банка (zp) и значения их поведенческого кредитного скоринга (ks): zp = [35, 45, 190, 200, 40, 70, 54, 150, 120, 110], ks = [401, 574, 874, 919, 459, 739, 653, 902, 746, 832]. Используя математические операции, посчитать коэффициенты линейной регрессии, приняв за X заработную плату (то есть, zp - признак), а за y - значения скорингового балла (то есть, ks - целевая переменная). Произвести расчет как с использованием intercept, так и без."
   ]
  },
  {
   "cell_type": "code",
   "execution_count": 54,
   "metadata": {},
   "outputs": [],
   "source": [
    "x = np.array([35, 45, 190, 200, 40, 70, 54, 150, 120, 110])"
   ]
  },
  {
   "cell_type": "code",
   "execution_count": 55,
   "metadata": {},
   "outputs": [],
   "source": [
    "y = np.array([401, 574, 874, 919, 459, 739, 653, 902, 746, 832])"
   ]
  },
  {
   "cell_type": "code",
   "execution_count": 56,
   "metadata": {},
   "outputs": [],
   "source": [
    "n = 10"
   ]
  },
  {
   "cell_type": "code",
   "execution_count": 57,
   "metadata": {},
   "outputs": [
    {
     "data": {
      "text/plain": [
       "2.620538882402765"
      ]
     },
     "execution_count": 57,
     "metadata": {},
     "output_type": "execute_result"
    }
   ],
   "source": [
    "b = (np.mean(x*y) - np.mean(x) * np.mean(y))/(np.mean(x**2)-np.mean(x)**2)\n",
    "b"
   ]
  },
  {
   "cell_type": "code",
   "execution_count": 58,
   "metadata": {},
   "outputs": [],
   "source": [
    "# b = (n*((x*y).sum()) - (x.sum()*y.sum()))/(n*((x**2).sum())-((x.sum()**2)))\n",
    "# b"
   ]
  },
  {
   "cell_type": "code",
   "execution_count": 59,
   "metadata": {},
   "outputs": [
    {
     "data": {
      "text/plain": [
       "444.1773573243596"
      ]
     },
     "execution_count": 59,
     "metadata": {},
     "output_type": "execute_result"
    }
   ],
   "source": [
    "a = np.mean(y)- b*np.mean(x)\n",
    "a"
   ]
  },
  {
   "cell_type": "code",
   "execution_count": 60,
   "metadata": {},
   "outputs": [
    {
     "data": {
      "text/plain": [
       "array([535.89621821, 562.10160703, 942.07974498, 968.2851338 ,\n",
       "       548.99891262, 627.61507909, 585.68645697, 837.25818968,\n",
       "       758.64202321, 732.43663439])"
      ]
     },
     "execution_count": 60,
     "metadata": {},
     "output_type": "execute_result"
    }
   ],
   "source": [
    "y_hat = a + b * x\n",
    "y_hat"
   ]
  },
  {
   "cell_type": "code",
   "execution_count": 61,
   "metadata": {},
   "outputs": [
    {
     "data": {
      "text/plain": [
       "array([401, 574, 874, 919, 459, 739, 653, 902, 746, 832])"
      ]
     },
     "execution_count": 61,
     "metadata": {},
     "output_type": "execute_result"
    }
   ],
   "source": [
    "y"
   ]
  },
  {
   "cell_type": "code",
   "execution_count": 62,
   "metadata": {},
   "outputs": [
    {
     "data": {
      "image/png": "[encoded data removed]",
      "text/plain": [
       "<Figure size 432x288 with 1 Axes>"
      ]
     },
     "metadata": {
      "needs_background": "light"
     },
     "output_type": "display_data"
    }
   ],
   "source": [
    "plt.scatter(x,y)\n",
    "plt.plot(x,a+b*x)\n",
    "plt.show;"
   ]
  },
  {
   "cell_type": "code",
   "execution_count": 63,
   "metadata": {},
   "outputs": [
    {
     "data": {
      "text/plain": [
       "6470.414201176658"
      ]
     },
     "execution_count": 63,
     "metadata": {},
     "output_type": "execute_result"
    }
   ],
   "source": [
    "mse = ((y - y_hat)**2).sum()/n\n",
    "mse"
   ]
  },
  {
   "cell_type": "code",
   "execution_count": 64,
   "metadata": {},
   "outputs": [],
   "source": [
    "x = x.reshape(10,1)"
   ]
  },
  {
   "cell_type": "code",
   "execution_count": 65,
   "metadata": {},
   "outputs": [],
   "source": [
    "y = y.reshape(10,1)"
   ]
  },
  {
   "cell_type": "code",
   "execution_count": 66,
   "metadata": {},
   "outputs": [],
   "source": [
    "#x = np.hstack([np.ones((10,1)),x])"
   ]
  },
  {
   "cell_type": "code",
   "execution_count": 67,
   "metadata": {},
   "outputs": [
    {
     "data": {
      "text/plain": [
       "array([[5.88982042]])"
      ]
     },
     "execution_count": 67,
     "metadata": {},
     "output_type": "execute_result"
    }
   ],
   "source": [
    "B = np.dot(np.linalg.inv(np.dot(x.T,x)),x.T @y)\n",
    "B"
   ]
  },
  {
   "cell_type": "code",
   "execution_count": null,
   "metadata": {},
   "outputs": [],
   "source": []
  },
  {
   "cell_type": "markdown",
   "metadata": {},
   "source": [
    "### 2) \n",
    "Посчитать коэффициент линейной регрессии при заработной плате (zp), используя градиентный спуск (без intercept)."
   ]
  },
  {
   "cell_type": "code",
   "execution_count": 78,
   "metadata": {},
   "outputs": [],
   "source": [
    "B1 = 0.1"
   ]
  },
  {
   "cell_type": "code",
   "execution_count": 79,
   "metadata": {},
   "outputs": [
    {
     "data": {
      "text/plain": [
       "518336.326"
      ]
     },
     "execution_count": 79,
     "metadata": {},
     "output_type": "execute_result"
    }
   ],
   "source": [
    "mse = (1/n) * np.sum((B1*x-y)**2)\n",
    "mse"
   ]
  },
  {
   "cell_type": "code",
   "execution_count": 81,
   "metadata": {},
   "outputs": [],
   "source": [
    "alpha = 1e-6"
   ]
  },
  {
   "cell_type": "code",
   "execution_count": 82,
   "metadata": {},
   "outputs": [],
   "source": [
    "def mse_(B1,y=y,x=x,n=10):\n",
    "    return np.sum((B1*x-y)**2)/2"
   ]
  },
  {
   "cell_type": "code",
   "execution_count": 83,
   "metadata": {},
   "outputs": [
    {
     "data": {
      "text/plain": [
       "282584.2943"
      ]
     },
     "execution_count": 83,
     "metadata": {},
     "output_type": "execute_result"
    }
   ],
   "source": [
    "mse_(5.890)"
   ]
  },
  {
   "cell_type": "code",
   "execution_count": 85,
   "metadata": {},
   "outputs": [
    {
     "name": "stdout",
     "output_type": "stream",
     "text": [
      "Iteration: 0,B1=0.25952808, mse=2466188.6062734816\n",
      "Iteration: 100,B1=5.54537842245223, mse=290756.59115855565\n",
      "Iteration: 200,B1=5.868748638669329, mse=282614.8775064688\n",
      "Iteration: 300,B1=5.888531320728348, mse=282584.406546801\n",
      "Iteration: 400,B1=5.8897415574471985, mse=282584.29250700265\n",
      "Iteration: 500,B1=5.889815595583751, mse=282584.29208020034\n",
      "Iteration: 600,B1=5.889820124983314, mse=282584.2920786031\n",
      "Iteration: 700,B1=5.889820402076462, mse=282584.29207859706\n",
      "Iteration: 800,B1=5.88982041902807, mse=282584.292078597\n",
      "Iteration: 900,B1=5.889820420065112, mse=282584.29207859706\n"
     ]
    }
   ],
   "source": [
    "for i in range(1000):\n",
    "    B1 -=alpha*(2/n)*np.sum((B1*x-y)*x)\n",
    "    if i % 100==0:\n",
    "        print('Iteration: {i},B1={B1}, mse={mse}'.format(i=i,B1=B1,mse=mse_(B1)))"
   ]
  },
  {
   "cell_type": "markdown",
   "metadata": {},
   "source": [
    "### 3) \n",
    "В каких случаях для вычисления доверительных интервалов и проверки статистических гипотез используется таблица значений функции Лапласа, а в каких - таблица критических точек распределения Стьюдента?\n"
   ]
  },
  {
   "cell_type": "markdown",
   "metadata": {},
   "source": [
    "Таблица значений функции Лаплласа используется, когда требуется подсчитать значение функции распределения нормальной случайной величины в точке. Как правило, её приводят для функции распределения нормальной случайной величины с нулевым средним и единичной дисперсией."
   ]
  },
  {
   "cell_type": "markdown",
   "metadata": {},
   "source": [
    " Распределение Стьюдента используется для точечного оценивания, построения доверительных интервалов и тестирования гипотез, касающихся неизвестного среднего статистической выборки из нормального распределения. Может быть использован для сопоставления средних у связных и несвязных выборок, причем выборки могут быть не равны по величине."
   ]
  },
  {
   "cell_type": "markdown",
   "metadata": {},
   "source": [
    "### 4) \n",
    "Произвести вычисления как в пункте 2, но с вычислением intercept. Учесть, что изменение коэффициентов должно производиться на каждом шаге одновременно (то есть изменение одного коэффициента не должно влиять на изменение другого во время одной итерации)."
   ]
  },
  {
   "cell_type": "code",
   "execution_count": 86,
   "metadata": {},
   "outputs": [],
   "source": [
    "n = 10\n",
    "B0 = 0.5\n",
    "B1 = 0.1\n",
    "alpha = 1e-5"
   ]
  },
  {
   "cell_type": "code",
   "execution_count": 87,
   "metadata": {},
   "outputs": [],
   "source": [
    "def mse_(B0, B1,y=y,x=x,n=n):\n",
    "    return np.sum((B0+B1*x-y)**2)/n"
   ]
  },
  {
   "cell_type": "code",
   "execution_count": 88,
   "metadata": {},
   "outputs": [
    {
     "name": "stdout",
     "output_type": "stream",
     "text": [
      "Iteration: 0, B0 =0.5139852,B1=1.6942668000000003, mse=298468.9163337628\n",
      "Iteration: 200000, B0 =283.34069750240894,B1=3.8043678086644137, mse=13032.327467049923\n",
      "Iteration: 400000, B0 =385.8668639036556,B1=3.0497298945292055, mse=7332.903723490301\n",
      "Iteration: 600000, B0 =423.0371916013903,B1=2.7761398487279845, mse=6583.778725509689\n",
      "Iteration: 800000, B0 =436.51310033428416,B1=2.6769512024123863, mse=6485.3146898721825\n",
      "Iteration: 1000000, B0 =441.3987208661758,B1=2.6409908752407456, mse=6472.372702433303\n",
      "Iteration: 1200000, B0 =443.16997714690314,B1=2.6279536458972053, mse=6470.671624087454\n",
      "Iteration: 1400000, B0 =443.81213688721203,B1=2.6232270662934023, mse=6470.448036516196\n",
      "Iteration: 1600000, B0 =444.04494855685203,B1=2.6215134694729003, mse=6470.4186484505935\n",
      "Iteration: 1800000, B0 =444.12935321524736,B1=2.6208922138696673, mse=6470.414785720677\n",
      "Iteration: 2000000, B0 =444.1599536845888,B1=2.6206669808860696, mse=6470.41427800838\n",
      "Iteration: 2200000, B0 =444.1710477253937,B1=2.620585323840788, mse=6470.41421127532\n",
      "Iteration: 2400000, B0 =444.1750698121152,B1=2.620555719504251, mse=6470.414202504015\n",
      "Iteration: 2600000, B0 =444.1765279987069,B1=2.620544986606235, mse=6470.414201351124\n",
      "Iteration: 2800000, B0 =444.17705665666193,B1=2.620541095449953, mse=6470.41420119959\n"
     ]
    }
   ],
   "source": [
    "for i in range(3000000):\n",
    "    y_pred = B0 + B1 * x\n",
    "    B0 -= alpha * (2/n) * np.sum(y_pred - y)\n",
    "    B1 -= alpha * (2/n) * np.sum((y_pred - y)* x)\n",
    "    if i % 200000 == 0:\n",
    "        print(f'Iteration: {i}, B0 ={B0},B1={B1}, mse={mse_(B0,B1)}')"
   ]
  }
 ],
 "metadata": {
  "kernelspec": {
   "display_name": "Python 3",
   "language": "python",
   "name": "python3"
  },
  "language_info": {
   "codemirror_mode": {
    "name": "ipython",
    "version": 3
   },
   "file_extension": ".py",
   "mimetype": "text/x-python",
   "name": "python",
   "nbconvert_exporter": "python",
   "pygments_lexer": "ipython3",
   "version": "3.7.3"
  }
 },
 "nbformat": 4,
 "nbformat_minor": 2
}
