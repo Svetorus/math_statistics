{
 "cells": [
  {
   "cell_type": "code",
   "execution_count": 122,
   "metadata": {},
   "outputs": [],
   "source": [
    "import pandas as pd\n",
    "import numpy as np"
   ]
  },
  {
   "cell_type": "markdown",
   "metadata": {},
   "source": [
    "### 1)\n",
    "Провести дисперсионный анализ для определения того, есть ли различия среднего роста среди взрослых футболистов, хоккеистов и штангистов. Даны значения роста в трех группах случайно выбранных спортсменов: Футболисты: 173, 175, 180, 178, 177, 185, 183, 182. Хоккеисты: 177, 179, 180, 188, 177, 172, 171, 184, 180. Штангисты: 172, 173, 169, 177, 166, 180, 178, 177, 172, 166, 170."
   ]
  },
  {
   "cell_type": "code",
   "execution_count": 125,
   "metadata": {},
   "outputs": [],
   "source": [
    "n1 = 8\n",
    "n2 = 9\n",
    "n3 = 11\n",
    "y1 = np.array([173, 175, 180, 178, 177, 185, 183, 182])\n",
    "y2 = np.array([177, 179, 180, 188, 177, 172, 171, 184, 180])\n",
    "y3 = np.array([172, 173, 169, 177, 166, 180, 178, 177, 172, 166, 170])"
   ]
  },
  {
   "cell_type": "code",
   "execution_count": 126,
   "metadata": {},
   "outputs": [],
   "source": [
    "Y1 = y1.sum()/n1 # Футболисты\n",
    "Y2 = y2.sum()/n2 # Хоккеисты\n",
    "Y3 = y3.sum()/n3 # Штангисты"
   ]
  },
  {
   "cell_type": "code",
   "execution_count": 100,
   "metadata": {},
   "outputs": [],
   "source": [
    "Y = (sum(y1)+sum(y2)+sum(y3))/(n1+n2+n3)"
   ]
  },
  {
   "cell_type": "code",
   "execution_count": 108,
   "metadata": {},
   "outputs": [],
   "source": [
    "Y_all = np.hstack((y1,y2,y3))\n",
    "d = []\n",
    "for i in Y_all:\n",
    "    s_err = (i - Y)**2\n",
    "    d.append(s_err)\n",
    "S = sum(d)"
   ]
  },
  {
   "cell_type": "code",
   "execution_count": 109,
   "metadata": {},
   "outputs": [],
   "source": [
    "Sf = ((Y1-Y)**2)*8 + ((Y2-Y)**2)*9 + ((Y3-Y)**2)*11"
   ]
  },
  {
   "cell_type": "code",
   "execution_count": 110,
   "metadata": {},
   "outputs": [],
   "source": [
    "a = []\n",
    "for i in y1:\n",
    "    s_err = (i - Y1)**2\n",
    "    a.append(s_err)\n",
    "for i in y2:\n",
    "    s_err = (i - Y2)**2\n",
    "    a.append(s_err)\n",
    "for i in y3:\n",
    "    s_err = (i - Y3)**2\n",
    "    a.append(s_err)\n",
    "S_ost = sum(a)"
   ]
  },
  {
   "cell_type": "code",
   "execution_count": 111,
   "metadata": {},
   "outputs": [],
   "source": [
    "S = Sf + S_ost"
   ]
  },
  {
   "cell_type": "code",
   "execution_count": 112,
   "metadata": {},
   "outputs": [],
   "source": [
    "σ = S / ((n1+n2+n3)-1)\n",
    "σ_f = Sf / (3-1)\n",
    "σ_ost = S_ost / (28-3)"
   ]
  },
  {
   "cell_type": "code",
   "execution_count": 116,
   "metadata": {},
   "outputs": [],
   "source": [
    "Fh = σ_f/σ_ost\n",
    "Fкрит = 3.38"
   ]
  },
  {
   "cell_type": "code",
   "execution_count": 120,
   "metadata": {},
   "outputs": [
    {
     "name": "stdout",
     "output_type": "stream",
     "text": [
      "среднее значение роста среди Футболистов  =  179.125\n",
      "среднее значение роста среди Хоккеистов  =  178.66666666666666\n",
      "среднее значение роста среди Штангистов  =  172.72727272727272\n",
      "среднее значение роста по всем =  176.46428571428572\n",
      "Сумма квадратов отклонений наблюдений от общего среднего  =  830.9642857142859\n",
      "Сумма квадратов отклонений средних групповых значений от общего среднего значения Y =  253.9074675324678\n",
      "Остаточная сумма квадратов отклонений =  577.0568181818181\n",
      "Общая дисперсия =  30.776455026455032\n",
      "Факторная дисперсия =  126.9537337662339\n",
      "Остаточная дисперсия =  23.082272727272724\n",
      "Наблюдаемое значение =  5.500053450812599\n",
      "Находим Fкрит в таблице распределения Фишера Снедекора для уровня значимости α=0.05 и двух степений свободы =  3.38\n"
     ]
    }
   ],
   "source": [
    "print(\"среднее значение роста среди Футболистов  = \", Y1)\n",
    "print(\"среднее значение роста среди Хоккеистов  = \", Y2)\n",
    "print(\"среднее значение роста среди Штангистов  = \", Y3)\n",
    "print(\"среднее значение роста по всем = \", Y)\n",
    "print(\"Сумма квадратов отклонений наблюдений от общего среднего  = \", S)\n",
    "print(\"Сумма квадратов отклонений средних групповых значений от общего среднего значения Y = \", Sf)\n",
    "print(\"Остаточная сумма квадратов отклонений = \", S_ost)\n",
    "print(\"Общая дисперсия = \", σ)\n",
    "print(\"Факторная дисперсия = \", σ_f)\n",
    "print(\"Остаточная дисперсия = \", σ_ost)\n",
    "print(\"Наблюдаемое значение = \", Fh)\n",
    "print(\"Находим Fкрит в таблице распределения Фишера Снедекора для уровня значимости α=0.05 и двух степений свободы = \", Fкрит)"
   ]
  },
  {
   "cell_type": "markdown",
   "metadata": {},
   "source": [
    "Ответ: Fh > Fкрит = 5.50 > 3.38 Следовательно, различие между группами статистически значимое "
   ]
  }
 ],
 "metadata": {
  "kernelspec": {
   "display_name": "Python 3",
   "language": "python",
   "name": "python3"
  },
  "language_info": {
   "codemirror_mode": {
    "name": "ipython",
    "version": 3
   },
   "file_extension": ".py",
   "mimetype": "text/x-python",
   "name": "python",
   "nbconvert_exporter": "python",
   "pygments_lexer": "ipython3",
   "version": "3.7.3"
  }
 },
 "nbformat": 4,
 "nbformat_minor": 2
}
